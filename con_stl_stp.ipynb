{
 "cells": [
  {
   "cell_type": "markdown",
   "metadata": {},
   "source": [
    "To use the code, it is necessary to install pythonocc-core with conda:\n",
    "\n",
    "    conda activate tf\n",
    "    conda install -c conda-forge pythonocc-core\n",
    "    \n",
    "tf is a python 3.11 enviroment\n",
    "\n",
    "trimesh and os can be installed by pip\n",
    "\n",
    "'stl' is the folder with .stl files, the files will be read automatically one by one, after the converting process, all .step files will be saved in the generated folder 'output' with the same names as .stl files\n",
    "\n",
    "\n",
    "ARTICLES:\n",
    "\n",
    "     \"Integration of CAD and CAE using Open Cascade Technology\" \n",
    "     \"Development of a CAD System Based on Open Cascade Technology\" \n",
    "\n",
    "LINKS: \n",
    "\n",
    "     https://dev.opencascade.org/doc/overview/html/index.html\n",
    "     https://github.com/tpaviot/pythonocc-core\n",
    "\n",
    "\n",
    "🐇 没有结果的话，不哭小兔子  🐇\n"
   ]
  },
  {
   "cell_type": "code",
   "execution_count": null,
   "metadata": {},
   "outputs": [],
   "source": [
    "import os\n",
    "import trimesh\n",
    "from OCC.Core.BRepBuilderAPI import BRepBuilderAPI_MakePolygon, BRepBuilderAPI_MakeFace\n",
    "from OCC.Core.BRep import BRep_Builder\n",
    "from OCC.Core.TopoDS import TopoDS_Compound\n",
    "from OCC.Core.STEPControl import STEPControl_Writer, STEPControl_AsIs\n",
    "from OCC.Core.Interface import Interface_Static_SetCVal\n",
    "from OCC.Core.IFSelect import IFSelect_RetDone\n",
    "from OCC.Core.gp import gp_Pnt "
   ]
  },
  {
   "cell_type": "code",
   "execution_count": null,
   "metadata": {},
   "outputs": [],
   "source": [
    "# the input folder with the stl data \n",
    "input_folder = \"stl\"\n",
    "# the output folder with the step data\n",
    "output_folder = \"output\""
   ]
  },
  {
   "cell_type": "code",
   "execution_count": null,
   "metadata": {},
   "outputs": [],
   "source": [
    "if not os.path.exists(output_folder):\n",
    "    os.makedirs(output_folder)"
   ]
  },
  {
   "cell_type": "code",
   "execution_count": null,
   "metadata": {},
   "outputs": [],
   "source": [
    "def stl_to_step(stl_file, step_file):\n",
    "    \n",
    "    mesh = trimesh.load(stl_file)\n",
    "\n",
    "    # Graph building\n",
    "    vertices = mesh.vertices\n",
    "    faces = mesh.faces\n",
    "\n",
    "    # Create a TopoDS_Compound to hold the shape\n",
    "    builder = BRep_Builder()\n",
    "    compound = TopoDS_Compound()\n",
    "    builder.MakeCompound(compound)\n",
    "\n",
    "    # Convert each face to a TopoDS_Face and add it to the compound\n",
    "    for face in faces:\n",
    "        polygon = BRepBuilderAPI_MakePolygon()\n",
    "        for vertex_idx in face:\n",
    "            vertex = vertices[vertex_idx]\n",
    "            # Generating (gp_Pnt) and add it to the Polygon\n",
    "            point = gp_Pnt(vertex[0], vertex[1], vertex[2])\n",
    "            polygon.Add(point)\n",
    "        polygon.Close()\n",
    "\n",
    "        # Create a face from the polygon\n",
    "        try:\n",
    "            face_shape = BRepBuilderAPI_MakeFace(polygon.Wire()).Face()\n",
    "            builder.Add(compound, face_shape)\n",
    "        except Exception as e:\n",
    "            print(f\"Failed to create face: {e}\")\n",
    "            continue\n",
    "\n",
    "    # Create a STEP writer\n",
    "    step_writer = STEPControl_Writer()\n",
    "\n",
    "    # Set the unit to cm, later the size can be rescaled!\n",
    "    Interface_Static_SetCVal(\"write.step.unit\", \"CM\")\n",
    "\n",
    "    # Transfer the shape to the STEP writer\n",
    "    step_writer.Transfer(compound, STEPControl_AsIs)\n",
    "\n",
    "    # Write the STEP file\n",
    "    status = step_writer.Write(step_file)\n",
    "\n",
    "    if status != IFSelect_RetDone:\n",
    "        raise RuntimeError(\"Failed ... 不哭小兔子 \")\n",
    "\n",
    "    print(f\"stl was converted as {step_file}\")"
   ]
  },
  {
   "cell_type": "code",
   "execution_count": null,
   "metadata": {},
   "outputs": [
    {
     "name": "stderr",
     "output_type": "stream",
     "text": [
      "/var/folders/xp/7l59yrcj32l0b_ztq1h97qx80000gn/T/ipykernel_3280/3061857317.py:36: DeprecationWarning: Call to deprecated function Interface_Static_SetCVal since pythonocc-core 7.7.1. This function will be removed in a future release, please rather use the static method Interface_Static.SetCVal\n",
      "  Interface_Static_SetCVal(\"write.step.unit\", \"MM\")\n"
     ]
    },
    {
     "name": "stdout",
     "output_type": "stream",
     "text": [
      "\u001b[32;1m\n",
      "*******************************************************************\n",
      "******        Statistics on Transfer (Write)                 ******\u001b[0m\n",
      "\u001b[32;1m\n",
      "*******************************************************************\n",
      "******        Transfer Mode = 0  I.E.  As Is       ******\u001b[0m\n",
      "\u001b[32;1m******        Transferring Shape, ShapeType = 0                      ******\u001b[0m\n",
      "\u001b[32;1m** WorkSession : Sending all data\u001b[0m\n",
      "\u001b[32;1m Step File Name : out.step(149222 ents)  Write  Done\u001b[0m\n",
      "STEP file saved to out.step\n"
     ]
    }
   ],
   "source": [
    "# Check for a single structure\n",
    "#stl_file = \"inp/3618.stl\"\n",
    "#step_file = \"out.step\"\n",
    "#stl_to_step(stl_file, step_file)"
   ]
  },
  {
   "cell_type": "code",
   "execution_count": null,
   "metadata": {},
   "outputs": [
    {
     "name": "stdout",
     "output_type": "stream",
     "text": [
      "Processing BCC-R-0.9955-V-17.7036.stl...\n"
     ]
    },
    {
     "name": "stderr",
     "output_type": "stream",
     "text": [
      "/var/folders/xp/7l59yrcj32l0b_ztq1h97qx80000gn/T/ipykernel_3280/3061857317.py:36: DeprecationWarning: Call to deprecated function Interface_Static_SetCVal since pythonocc-core 7.7.1. This function will be removed in a future release, please rather use the static method Interface_Static.SetCVal\n",
      "  Interface_Static_SetCVal(\"write.step.unit\", \"MM\")\n"
     ]
    },
    {
     "name": "stdout",
     "output_type": "stream",
     "text": [
      "\u001b[32;1m\n",
      "*******************************************************************\n",
      "******        Statistics on Transfer (Write)                 ******\u001b[0m\n",
      "\u001b[32;1m\n",
      "*******************************************************************\n",
      "******        Transfer Mode = 0  I.E.  As Is       ******\u001b[0m\n",
      "\u001b[32;1m******        Transferring Shape, ShapeType = 0                      ******\u001b[0m\n",
      "\u001b[32;1m** WorkSession : Sending all data\u001b[0m\n",
      "\u001b[32;1m Step File Name : output/BCC-R-0.9955-V-17.7036.stp(370676 ents)  Write  Done\u001b[0m\n",
      "STEP file saved to output/BCC-R-0.9955-V-17.7036.stp\n",
      "Processing BCCXYZ-R-0.8345-V-17.7012.stl...\n"
     ]
    },
    {
     "name": "stderr",
     "output_type": "stream",
     "text": [
      "/var/folders/xp/7l59yrcj32l0b_ztq1h97qx80000gn/T/ipykernel_3280/3061857317.py:36: DeprecationWarning: Call to deprecated function Interface_Static_SetCVal since pythonocc-core 7.7.1. This function will be removed in a future release, please rather use the static method Interface_Static.SetCVal\n",
      "  Interface_Static_SetCVal(\"write.step.unit\", \"MM\")\n"
     ]
    },
    {
     "name": "stdout",
     "output_type": "stream",
     "text": [
      "\u001b[32;1m\n",
      "*******************************************************************\n",
      "******        Statistics on Transfer (Write)                 ******\u001b[0m\n",
      "\u001b[32;1m\n",
      "*******************************************************************\n",
      "******        Transfer Mode = 0  I.E.  As Is       ******\u001b[0m\n",
      "\u001b[32;1m******        Transferring Shape, ShapeType = 0                      ******\u001b[0m\n",
      "STEP file saved to output/BCCXYZ-R-0.8345-V-17.7012.stp\n",
      "Processing BCCZ-R-0.9335-V-17.7038.stl...\n",
      "\u001b[32;1m** WorkSession : Sending all data\u001b[0m\n",
      "\u001b[32;1m Step File Name : output/BCCXYZ-R-0.8345-V-17.7012.stp(427700 ents)  Write  Done\u001b[0m\n"
     ]
    },
    {
     "name": "stderr",
     "output_type": "stream",
     "text": [
      "/var/folders/xp/7l59yrcj32l0b_ztq1h97qx80000gn/T/ipykernel_3280/3061857317.py:36: DeprecationWarning: Call to deprecated function Interface_Static_SetCVal since pythonocc-core 7.7.1. This function will be removed in a future release, please rather use the static method Interface_Static.SetCVal\n",
      "  Interface_Static_SetCVal(\"write.step.unit\", \"MM\")\n"
     ]
    },
    {
     "name": "stdout",
     "output_type": "stream",
     "text": [
      "\u001b[32;1m\n",
      "*******************************************************************\n",
      "******        Statistics on Transfer (Write)                 ******\u001b[0m\n",
      "\u001b[32;1m\n",
      "*******************************************************************\n",
      "******        Transfer Mode = 0  I.E.  As Is       ******\u001b[0m\n",
      "STEP file saved to output/BCCZ-R-0.9335-V-17.7038.stp\n",
      "Processing cubic-R-1.5151-V-17.6992.stl...\n",
      "\u001b[32;1m******        Transferring Shape, ShapeType = 0                      ******\u001b[0m\n",
      "\u001b[32;1m** WorkSession : Sending all data\u001b[0m\n",
      "\u001b[32;1m Step File Name : output/BCCZ-R-0.9335-V-17.7038.stp(388820 ents)  Write  Done\u001b[0m\n"
     ]
    },
    {
     "name": "stderr",
     "output_type": "stream",
     "text": [
      "/var/folders/xp/7l59yrcj32l0b_ztq1h97qx80000gn/T/ipykernel_3280/3061857317.py:36: DeprecationWarning: Call to deprecated function Interface_Static_SetCVal since pythonocc-core 7.7.1. This function will be removed in a future release, please rather use the static method Interface_Static.SetCVal\n",
      "  Interface_Static_SetCVal(\"write.step.unit\", \"MM\")\n"
     ]
    },
    {
     "name": "stdout",
     "output_type": "stream",
     "text": [
      "\u001b[32;1m\n",
      "*******************************************************************\n",
      "******        Statistics on Transfer (Write)                 ******\u001b[0m\n",
      "\u001b[32;1m\n",
      "*******************************************************************\n",
      "******        Transfer Mode = 0  I.E.  As Is       ******\u001b[0m\n",
      "\u001b[32;1m******        Transferring Shape, ShapeType = 0                      ******\u001b[0m\n",
      "STEP file saved to output/cubic-R-1.5151-V-17.6992.stp\n",
      "\u001b[32;1m** WorkSession : Sending all data\u001b[0m\n",
      "\u001b[32;1m Step File Name : output/cubic-R-1.5151-V-17.6992.stp(89444 ents)  Write  Done\u001b[0m\n",
      "Processing Cuboctahedron-R-0.7757-V-17.6916.stl...\n"
     ]
    },
    {
     "name": "stderr",
     "output_type": "stream",
     "text": [
      "/var/folders/xp/7l59yrcj32l0b_ztq1h97qx80000gn/T/ipykernel_3280/3061857317.py:36: DeprecationWarning: Call to deprecated function Interface_Static_SetCVal since pythonocc-core 7.7.1. This function will be removed in a future release, please rather use the static method Interface_Static.SetCVal\n",
      "  Interface_Static_SetCVal(\"write.step.unit\", \"MM\")\n"
     ]
    },
    {
     "name": "stdout",
     "output_type": "stream",
     "text": [
      "\u001b[32;1m\n",
      "*******************************************************************\n",
      "******        Statistics on Transfer (Write)                 ******\u001b[0m\n",
      "\u001b[32;1m\n",
      "*******************************************************************\n",
      "******        Transfer Mode = 0  I.E.  As Is       ******\u001b[0m\n",
      "STEP file saved to output/Cuboctahedron-R-0.7757-V-17.6916.stp\n",
      "Processing FBCCXYZ-R-0.6666-V-17.7048.stl...\n",
      "\u001b[32;1m******        Transferring Shape, ShapeType = 0                      ******\u001b[0m\n",
      "\u001b[32;1m** WorkSession : Sending all data\u001b[0m\n",
      "\u001b[32;1m Step File Name : output/Cuboctahedron-R-0.7757-V-17.6916.stp(725942 ents)  Write  Done\u001b[0m\n"
     ]
    },
    {
     "name": "stderr",
     "output_type": "stream",
     "text": [
      "/var/folders/xp/7l59yrcj32l0b_ztq1h97qx80000gn/T/ipykernel_3280/3061857317.py:36: DeprecationWarning: Call to deprecated function Interface_Static_SetCVal since pythonocc-core 7.7.1. This function will be removed in a future release, please rather use the static method Interface_Static.SetCVal\n",
      "  Interface_Static_SetCVal(\"write.step.unit\", \"MM\")\n"
     ]
    },
    {
     "name": "stdout",
     "output_type": "stream",
     "text": [
      "\u001b[32;1mSTEP file saved to output/FBCCXYZ-R-0.6666-V-17.7048.stp\n",
      "Processing FBCCXYZ-R-0.9026-V-17.7004.stl...\n",
      "\n",
      "*******************************************************************\n",
      "******        Statistics on Transfer (Write)                 ******\u001b[0m\n",
      "\u001b[32;1m\n",
      "*******************************************************************\n",
      "******        Transfer Mode = 0  I.E.  As Is       ******\u001b[0m\n",
      "\u001b[32;1m******        Transferring Shape, ShapeType = 0                      ******\u001b[0m\n",
      "\u001b[32;1m** WorkSession : Sending all data\u001b[0m\n",
      "\u001b[32;1m Step File Name : output/FBCCXYZ-R-0.6666-V-17.7048.stp(683498 ents)  Write  Done\u001b[0m\n"
     ]
    },
    {
     "name": "stderr",
     "output_type": "stream",
     "text": [
      "/var/folders/xp/7l59yrcj32l0b_ztq1h97qx80000gn/T/ipykernel_3280/3061857317.py:36: DeprecationWarning: Call to deprecated function Interface_Static_SetCVal since pythonocc-core 7.7.1. This function will be removed in a future release, please rather use the static method Interface_Static.SetCVal\n",
      "  Interface_Static_SetCVal(\"write.step.unit\", \"MM\")\n"
     ]
    },
    {
     "name": "stdout",
     "output_type": "stream",
     "text": [
      "\u001b[32;1m\n",
      "*******************************************************************\n",
      "******        Statistics on Transfer (Write)                 ******\u001b[0m\n",
      "\u001b[32;1m\n",
      "*******************************************************************\n",
      "******        Transfer Mode = 0  I.E.  As Is       ******\u001b[0m\n",
      "\u001b[32;1m******        Transferring Shape, ShapeType = 0                      ******\u001b[0m\n",
      "\u001b[32;1m** WorkSession : Sending all data\u001b[0m\n",
      "\u001b[32;1m Step File Name : output/FBCCXYZ-R-0.9026-V-17.7004.stp(379100 ents)  Write  Done\u001b[0m\n",
      "STEP file saved to output/FBCCXYZ-R-0.9026-V-17.7004.stp\n",
      "Processing FCC-R-1.1130-V-17.7028.stl...\n"
     ]
    },
    {
     "name": "stderr",
     "output_type": "stream",
     "text": [
      "/var/folders/xp/7l59yrcj32l0b_ztq1h97qx80000gn/T/ipykernel_3280/3061857317.py:36: DeprecationWarning: Call to deprecated function Interface_Static_SetCVal since pythonocc-core 7.7.1. This function will be removed in a future release, please rather use the static method Interface_Static.SetCVal\n",
      "  Interface_Static_SetCVal(\"write.step.unit\", \"MM\")\n"
     ]
    },
    {
     "name": "stdout",
     "output_type": "stream",
     "text": [
      "\u001b[32;1m\n",
      "*******************************************************************\n",
      "******        Statistics on Transfer (Write)                 ******\u001b[0m\n",
      "STEP file saved to output/FCC-R-1.1130-V-17.7028.stp\n",
      "Processing FCCZ-R-1.0388-V-17.6924.stl...\n",
      "\u001b[32;1m\n",
      "*******************************************************************\n",
      "******        Transfer Mode = 0  I.E.  As Is       ******\u001b[0m\n",
      "\u001b[32;1m******        Transferring Shape, ShapeType = 0                      ******\u001b[0m\n",
      "\u001b[32;1m** WorkSession : Sending all data\u001b[0m\n",
      "\u001b[32;1m Step File Name : output/FCC-R-1.1130-V-17.7028.stp(265376 ents)  Write  Done\u001b[0m\n"
     ]
    },
    {
     "name": "stderr",
     "output_type": "stream",
     "text": [
      "/var/folders/xp/7l59yrcj32l0b_ztq1h97qx80000gn/T/ipykernel_3280/3061857317.py:36: DeprecationWarning: Call to deprecated function Interface_Static_SetCVal since pythonocc-core 7.7.1. This function will be removed in a future release, please rather use the static method Interface_Static.SetCVal\n",
      "  Interface_Static_SetCVal(\"write.step.unit\", \"MM\")\n"
     ]
    },
    {
     "name": "stdout",
     "output_type": "stream",
     "text": [
      "\u001b[32;1m\n",
      "*******************************************************************\n",
      "******        Statistics on Transfer (Write)                 ******\u001b[0m\n",
      "\u001b[32;1m\n",
      "*******************************************************************\n",
      "******        Transfer Mode = 0  I.E.  As Is       ******STEP file saved to output/FCCZ-R-1.0388-V-17.6924.stp\n",
      "Processing G7-R-0.8801-V-17.6919.stl...\n",
      "\u001b[0m\n",
      "\u001b[32;1m******        Transferring Shape, ShapeType = 0                      ******\u001b[0m\n",
      "\u001b[32;1m** WorkSession : Sending all data\u001b[0m\n",
      "\u001b[32;1m Step File Name : output/FCCZ-R-1.0388-V-17.6924.stp(313004 ents)  Write  Done\u001b[0m\n"
     ]
    },
    {
     "name": "stderr",
     "output_type": "stream",
     "text": [
      "/var/folders/xp/7l59yrcj32l0b_ztq1h97qx80000gn/T/ipykernel_3280/3061857317.py:36: DeprecationWarning: Call to deprecated function Interface_Static_SetCVal since pythonocc-core 7.7.1. This function will be removed in a future release, please rather use the static method Interface_Static.SetCVal\n",
      "  Interface_Static_SetCVal(\"write.step.unit\", \"MM\")\n"
     ]
    },
    {
     "name": "stdout",
     "output_type": "stream",
     "text": [
      "\u001b[32;1m\n",
      "*******************************************************************\n",
      "******        Statistics on Transfer (Write)                 ******\u001b[0m\n",
      "STEP file saved to output/G7-R-0.8801-V-17.6919.stp\n",
      "Processing Otect-truss-R-0.6383-V-17.7014.stl...\n",
      "\u001b[32;1m\n",
      "*******************************************************************\n",
      "******        Transfer Mode = 0  I.E.  As Is       ******\u001b[0m\n",
      "\u001b[32;1m******        Transferring Shape, ShapeType = 0                      ******\u001b[0m\n",
      "\u001b[32;1m** WorkSession : Sending all data\u001b[0m\n",
      "\u001b[32;1m Step File Name : output/G7-R-0.8801-V-17.6919.stp(407288 ents)  Write  Done\u001b[0m\n"
     ]
    },
    {
     "name": "stderr",
     "output_type": "stream",
     "text": [
      "/var/folders/xp/7l59yrcj32l0b_ztq1h97qx80000gn/T/ipykernel_3280/3061857317.py:36: DeprecationWarning: Call to deprecated function Interface_Static_SetCVal since pythonocc-core 7.7.1. This function will be removed in a future release, please rather use the static method Interface_Static.SetCVal\n",
      "  Interface_Static_SetCVal(\"write.step.unit\", \"MM\")\n"
     ]
    },
    {
     "name": "stdout",
     "output_type": "stream",
     "text": [
      "\u001b[32;1m\n",
      "*******************************************************************\n",
      "******        Statistics on Transfer (Write)                 ******\u001b[0m\n",
      "\u001b[32;1m\n",
      "*******************************************************************\n",
      "******        Transfer Mode = 0  I.E.  As Is       ******\u001b[0m\n",
      "\u001b[32;1m******        Transferring Shape, ShapeType = 0                      ******\u001b[0m\n",
      "\u001b[32;1m** WorkSession : Sending all data\u001b[0m\n",
      "\u001b[32;1m Step File Name : output/Otect-truss-R-0.6383-V-17.7014.stp(846632 ents)  Write  Done\u001b[0m\n",
      "STEP file saved to output/Otect-truss-R-0.6383-V-17.7014.stp\n",
      "Processing PL_1_M_1.stl...\n"
     ]
    }
   ],
   "source": [
    "# Application for the .stl files from stl folder\n",
    "for stl_filename in os.listdir(input_folder):\n",
    "    if stl_filename.endswith(\".stl\"):\n",
    "        stl_file = os.path.join(input_folder, stl_filename)\n",
    "        \n",
    "        step_filename = os.path.splitext(stl_filename)[0] + \".stp\"\n",
    "        step_file = os.path.join(output_folder, step_filename)\n",
    "\n",
    "        print(f\"Processing {stl_filename}...\")\n",
    "        try:\n",
    "            stl_to_step(stl_file, step_file)\n",
    "        except Exception as e:\n",
    "            print(f\"不哭小兔子... Failed to process for {stl_filename}: {e}\")"
   ]
  }
 ],
 "metadata": {
  "kernelspec": {
   "display_name": "tf",
   "language": "python",
   "name": "python3"
  },
  "language_info": {
   "codemirror_mode": {
    "name": "ipython",
    "version": 3
   },
   "file_extension": ".py",
   "mimetype": "text/x-python",
   "name": "python",
   "nbconvert_exporter": "python",
   "pygments_lexer": "ipython3",
   "version": "3.11.5"
  }
 },
 "nbformat": 4,
 "nbformat_minor": 2
}
